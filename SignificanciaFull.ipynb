{
 "cells": [
  {
   "cell_type": "code",
   "execution_count": 11,
   "metadata": {},
   "outputs": [],
   "source": [
    "import numpy as np\n",
    "import pandas as pd\n",
    "import os\n",
    "import csv\n",
    "\n",
    "data='/home/usuario-ubuntu/Escritorio/TESIS/ngc6397/data'\n",
    "stars = [d for d in os.listdir(data) if os.path.isdir(os.path.join(data,d))]\n",
    "\n",
    "var = []\n",
    "nonvarV = []\n",
    "nonvarI = []\n",
    "\n",
    "listvar = [54, 128, 176, 218, 284, 365, 416, 454]\n",
    "for star in stars:\n",
    "    route = os.path.join(data, star)\n",
    "    files = os.listdir(route)\n",
    "    star_number = int(star[4:]) \n",
    "\n",
    "    fileV = next((f for f in files if f.endswith('V')), None)\n",
    "    fileI = next((f for f in files if f.endswith('I')), None)\n",
    "\n",
    "    if fileV:\n",
    "        pathV = os.path.join(route, fileV)\n",
    "        magV = np.loadtxt(pathV, usecols=1)\n",
    "        meanmagV = np.mean(magV)\n",
    "        deltaV = magV - meanmagV\n",
    "        if star_number in listvar:\n",
    "            sigmaV = np.std(deltaV, ddof=1)\n",
    "            errSigmaV = sigmaV / np.sqrt(2*len(deltaV))\n",
    "\n",
    "    if fileI:\n",
    "        pathI = os.path.join(route, fileI)\n",
    "        magI = np.loadtxt(pathI, usecols=1)\n",
    "        meanmagI = np.mean(magI)\n",
    "        deltaI = magI - meanmagI\n",
    "        if star_number in  listvar:\n",
    "            sigmaI = np.std(deltaI, ddof=1)\n",
    "            errSigmaI = sigmaI / np.sqrt(2*len(deltaI))\n",
    "\n",
    "\n",
    "    if star_number in listvar:\n",
    "        row = [star_number, sigmaV, errSigmaV, sigmaI, errSigmaI]\n",
    "        var.append(row)\n",
    "    else:\n",
    "        if fileV:\n",
    "            nonvarV.append(deltaV)\n",
    "        if fileI:\n",
    "            nonvarI.append(deltaI)\n",
    "\n",
    "deltatotalV = np.concatenate(nonvarV).ravel()\n",
    "deltatotalI = np.concatenate(nonvarI).ravel()\n",
    "\n",
    "with open('variables.csv', 'w', newline='') as f:\n",
    "    writer = csv.writer(f)\n",
    "    writer.writerow(['N', 'SigmaV', 'ErrSigmaV', 'SigmaI', 'ErrSigmaI'])\n",
    "    writer.writerows(var)"
   ]
  },
  {
   "cell_type": "code",
   "execution_count": 12,
   "metadata": {},
   "outputs": [
    {
     "name": "stdout",
     "output_type": "stream",
     "text": [
      "Sigma Non-Var V: 0.02913303454157021 || Error V: 4.163459792989974e-05\n",
      "Sigma Non-Var I: 0.020319115259515175 || Error I: 3.784588184951726e-05\n"
     ]
    }
   ],
   "source": [
    "sigmanonvarV = np.std(deltatotalV, ddof=1)\n",
    "sigmanonvarI = np.std(deltatotalI, ddof=1)\n",
    "\n",
    "errnonvarV = sigmanonvarV / np.sqrt(2*len(deltatotalV))\n",
    "errnonvarI = sigmanonvarI / np.sqrt(2*len(deltatotalI))\n",
    "\n",
    "print(f'Sigma Non-Var V: {sigmanonvarV} || Error V: {errnonvarV}')\n",
    "print(f'Sigma Non-Var I: {sigmanonvarI} || Error I: {errnonvarI}')"
   ]
  },
  {
   "cell_type": "code",
   "execution_count": 28,
   "metadata": {},
   "outputs": [
    {
     "name": "stdout",
     "output_type": "stream",
     "text": [
      "Star 14 | Significancia V: 23.525947562116883 || Significancia I: 19.992190847339366\n",
      "Star 37 | Significancia V: -8.537364044969703 || Significancia I: 2.8993398919086357\n",
      "Star 47 | Significancia V: 10.059837494330718 || Significancia I: 11.481043876071247\n",
      "Star 54 | Significancia V: 3.5274821316379343 || Significancia I: 6.078952362860488\n",
      "Star 65 | Significancia V: 10.507221662941284 || Significancia I: 8.205063061482717\n",
      "Star 84 | Significancia V: 20.054014404448463 || Significancia I: 18.29068948911623\n",
      "Star 87 | Significancia V: 13.601441375477336 || Significancia I: 15.92637647262199\n",
      "Star 92 | Significancia V: 8.475593530110697 || Significancia I: 15.969212116587498\n"
     ]
    }
   ],
   "source": [
    "variables = pd.read_csv('variables.csv')\n",
    "real = [14, 37, 47, 54, 65, 84, 87, 92]\n",
    "for i, (idx, row) in enumerate(variables.iterrows()):\n",
    "    num = real[i]\n",
    "    sigmaV = row['SigmaV']\n",
    "    errSigmaV = row['ErrSigmaV']\n",
    "    sigmaI = row['SigmaI']\n",
    "    errSigmaI = row['ErrSigmaI']\n",
    "\n",
    "    SigV = (sigmaV - sigmanonvarV) / np.sqrt(errSigmaV**2 + errnonvarV**2)\n",
    "    SigI = (sigmaI - sigmanonvarI) / np.sqrt(errSigmaI**2 + errnonvarI**2)\n",
    " \n",
    "    print(f'Star {num} | Significancia V: {SigV} || Significancia I: {SigI}')"
   ]
  }
 ],
 "metadata": {
  "kernelspec": {
   "display_name": "Python 3",
   "language": "python",
   "name": "python3"
  },
  "language_info": {
   "codemirror_mode": {
    "name": "ipython",
    "version": 3
   },
   "file_extension": ".py",
   "mimetype": "text/x-python",
   "name": "python",
   "nbconvert_exporter": "python",
   "pygments_lexer": "ipython3",
   "version": "3.10.12"
  }
 },
 "nbformat": 4,
 "nbformat_minor": 2
}
